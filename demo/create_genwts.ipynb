{
 "cells": [
  {
   "cell_type": "markdown",
   "id": "30316dc4",
   "metadata": {},
   "source": [
    "## 모델 선정"
   ]
  },
  {
   "cell_type": "code",
   "execution_count": 4,
   "id": "dc5e6edc",
   "metadata": {},
   "outputs": [
    {
     "name": "stdout",
     "output_type": "stream",
     "text": [
      "/home/yyj-avikus/sahi/demo\r\n"
     ]
    }
   ],
   "source": [
    "!pwd"
   ]
  },
  {
   "cell_type": "code",
   "execution_count": 8,
   "id": "81de1a13",
   "metadata": {},
   "outputs": [
    {
     "name": "stdout",
     "output_type": "stream",
     "text": [
      "../resources/models/221012/best.pt\r\n"
     ]
    }
   ],
   "source": [
    "!ls ../resources/models/221012/best.pt"
   ]
  },
  {
   "cell_type": "markdown",
   "id": "5d7c81ef",
   "metadata": {},
   "source": [
    "## CREATE WTS"
   ]
  },
  {
   "cell_type": "code",
   "execution_count": 2,
   "id": "1c7c26b7",
   "metadata": {},
   "outputs": [
    {
     "name": "stdout",
     "output_type": "stream",
     "text": [
      "/home/yyj-avikus/sahi/demo\r\n"
     ]
    }
   ],
   "source": [
    "!pwd"
   ]
  },
  {
   "cell_type": "code",
   "execution_count": 3,
   "id": "7071b6d0",
   "metadata": {},
   "outputs": [
    {
     "name": "stdout",
     "output_type": "stream",
     "text": [
      "benchmarks.py  data\t  gen_wts_yoloV5.py  __init__.py  train.py\r\n",
      "classify       detect.py  helpers.py\t     models\t  utils\r\n",
      "cli.py\t       export.py  hubconf.py\t     segment\t  val.py\r\n"
     ]
    }
   ],
   "source": [
    "!ls ../yolov5/yolov5/"
   ]
  },
  {
   "cell_type": "code",
   "execution_count": 9,
   "id": "d23ceca9",
   "metadata": {},
   "outputs": [
    {
     "name": "stdout",
     "output_type": "stream",
     "text": [
      "/home/yyj-avikus/sahi/yolov5/yolov5\n"
     ]
    }
   ],
   "source": [
    "%cd ../yolov5/yolov5/"
   ]
  },
  {
   "cell_type": "code",
   "execution_count": 15,
   "id": "23e39888",
   "metadata": {},
   "outputs": [
    {
     "name": "stdout",
     "output_type": "stream",
     "text": [
      "YOLOv5 🚀 2022-10-12 Python-3.8.13 torch-1.8.2 CPU\r\n",
      "\r\n"
     ]
    }
   ],
   "source": [
    "!python gen_wts_yoloV5.py --weights ../../resources/models/221012/best.pt"
   ]
  },
  {
   "cell_type": "code",
   "execution_count": 16,
   "id": "2d7a2e5e",
   "metadata": {},
   "outputs": [
    {
     "name": "stdout",
     "output_type": "stream",
     "text": [
      "benchmarks.py  detect.py\t  hubconf.py   train.py\t\tyolov5_best.wts\r\n",
      "classify       export.py\t  __init__.py  utils\r\n",
      "cli.py\t       gen_wts_yoloV5.py  models       val.py\r\n",
      "data\t       helpers.py\t  segment      yolov5_best.cfg\r\n"
     ]
    }
   ],
   "source": [
    "!ls"
   ]
  },
  {
   "cell_type": "markdown",
   "id": "da5139e7",
   "metadata": {},
   "source": [
    "## MOVE TO DSL_DATA_FOLDER"
   ]
  },
  {
   "cell_type": "code",
   "execution_count": 18,
   "id": "4a6e64c0",
   "metadata": {},
   "outputs": [],
   "source": [
    "!mkdir -p  ~/aiboat/aiboat/APP/NAS/datas/FLL_221012"
   ]
  },
  {
   "cell_type": "code",
   "execution_count": null,
   "id": "6b95c5ad",
   "metadata": {},
   "outputs": [],
   "source": [
    "!mv "
   ]
  }
 ],
 "metadata": {
  "kernelspec": {
   "display_name": "Python 3 (ipykernel)",
   "language": "python",
   "name": "python3"
  },
  "language_info": {
   "codemirror_mode": {
    "name": "ipython",
    "version": 3
   },
   "file_extension": ".py",
   "mimetype": "text/x-python",
   "name": "python",
   "nbconvert_exporter": "python",
   "pygments_lexer": "ipython3",
   "version": "3.8.13"
  }
 },
 "nbformat": 4,
 "nbformat_minor": 5
}
