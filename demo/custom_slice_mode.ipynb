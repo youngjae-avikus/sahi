{
 "cells": [
  {
   "cell_type": "code",
   "execution_count": 1,
   "id": "476ab74d",
   "metadata": {},
   "outputs": [],
   "source": [
    "import os"
   ]
  },
  {
   "cell_type": "code",
   "execution_count": 2,
   "id": "a43afd71",
   "metadata": {},
   "outputs": [],
   "source": [
    "source_image_dir = \"../resources/FLL_VAL/images/\"\n",
    "source_label_dir = \"../resources/FLL_VAL/labels/\""
   ]
  },
  {
   "cell_type": "code",
   "execution_count": 3,
   "id": "164a4462",
   "metadata": {},
   "outputs": [],
   "source": [
    "image_files = sorted([fn for fn in os.listdir(source_image_dir) if fn.endswith(\"jpg\")])\n",
    "label_files = sorted([fn for fn in os.listdir(source_label_dir) if fn.endswith(\"txt\")])"
   ]
  },
  {
   "cell_type": "markdown",
   "id": "eb06332c",
   "metadata": {},
   "source": [
    "## Get_Slice Various mode"
   ]
  },
  {
   "cell_type": "code",
   "execution_count": 4,
   "id": "dd51dac7",
   "metadata": {},
   "outputs": [
    {
     "ename": "ModuleNotFoundError",
     "evalue": "No module named 'sahi'",
     "output_type": "error",
     "traceback": [
      "\u001b[0;31m---------------------------------------------------------------------------\u001b[0m",
      "\u001b[0;31mModuleNotFoundError\u001b[0m                       Traceback (most recent call last)",
      "Input \u001b[0;32mIn [4]\u001b[0m, in \u001b[0;36m<cell line: 6>\u001b[0;34m()\u001b[0m\n\u001b[1;32m      4\u001b[0m \u001b[38;5;28;01mimport\u001b[39;00m \u001b[38;5;21;01mcv2\u001b[39;00m\n\u001b[1;32m      5\u001b[0m get_ipython()\u001b[38;5;241m.\u001b[39mrun_line_magic(\u001b[38;5;124m'\u001b[39m\u001b[38;5;124mmatplotlib\u001b[39m\u001b[38;5;124m'\u001b[39m, \u001b[38;5;124m'\u001b[39m\u001b[38;5;124minline\u001b[39m\u001b[38;5;124m'\u001b[39m)\n\u001b[0;32m----> 6\u001b[0m \u001b[38;5;28;01mfrom\u001b[39;00m \u001b[38;5;21;01msahi\u001b[39;00m \u001b[38;5;28;01mimport\u001b[39;00m slicing\n\u001b[1;32m      7\u001b[0m \u001b[38;5;28;01mfrom\u001b[39;00m \u001b[38;5;21;01msahi\u001b[39;00m\u001b[38;5;21;01m.\u001b[39;00m\u001b[38;5;21;01mslicing\u001b[39;00m \u001b[38;5;28;01mimport\u001b[39;00m slice_image\n\u001b[1;32m      8\u001b[0m \u001b[38;5;28;01mfrom\u001b[39;00m \u001b[38;5;21;01mipywidgets\u001b[39;00m \u001b[38;5;28;01mimport\u001b[39;00m interact\n",
      "\u001b[0;31mModuleNotFoundError\u001b[0m: No module named 'sahi'"
     ]
    }
   ],
   "source": [
    "from typing import List\n",
    "import copy\n",
    "import matplotlib.pyplot as plt\n",
    "import cv2\n",
    "%matplotlib inline \n",
    "from sahi import slicing\n",
    "from sahi.slicing import slice_image\n",
    "from ipywidgets import interact\n",
    "\n",
    "slicing.logger.setLevel(slicing.logging.INFO)\n",
    "\n",
    "# single_row_y_start: int = 200,\n",
    "@interact(index=(0, len(image_files)-1), \n",
    "          slice_size=(0, 720), \n",
    "          overlap_ratio=(0, 0.5, 0.05), \n",
    "          custom_slice_x_start=(0, 1920),\n",
    "          custom_slice_y_start=(0, 1080),\n",
    "          custom_slice_mode=(0, 3)\n",
    "          )\n",
    "def visualize_slice_rect(index=0, \n",
    "                         slice_size=512,\n",
    "                         overlap_ratio=0.2,\n",
    "                         custom_slice_x_start=640,\n",
    "                         custom_slice_y_start=480,\n",
    "                         custom_slice_mode=2,\n",
    "                        ):\n",
    "    image_file = image_files[index]\n",
    "    image_path = os.path.join(source_image_dir, image_file)\n",
    "    \n",
    "    print(custom_slice_mode)\n",
    "    res = slice_image(image_path, \n",
    "                      slice_width=slice_size,\n",
    "                      slice_height=slice_size,\n",
    "                      overlap_height_ratio=overlap_ratio,\n",
    "                      overlap_width_ratio=overlap_ratio,\n",
    "                      custom_slice_mode=custom_slice_mode,\n",
    "                      custom_slice_x_start=custom_slice_x_start,\n",
    "                      custom_slice_y_start=custom_slice_y_start,\n",
    "                      verbose=1)\n",
    "\n",
    "    image = cv2.imread(image_path)\n",
    "    image = copy.deepcopy(image)\n",
    "    image = cv2.cvtColor(image, cv2.COLOR_BGR2RGB)\n",
    "    \n",
    "    for start_pixel in res.starting_pixels:\n",
    "        cv2.rectangle(image,\n",
    "                      start_pixel,\n",
    "                      [s1+s2 for s1, s2 in zip(start_pixel,[slice_size,slice_size])],\n",
    "                      color=(255, 0, 0),\n",
    "                      thickness=2)\n",
    "    \n",
    "    for s_im in res.images:\n",
    "        print(s_im.shape)\n",
    "    \n",
    "    plt.figure(figsize=(16,16))\n",
    "    plt.imshow(image)\n",
    "    plt.axis('off')\n",
    "    plt.show()"
   ]
  },
  {
   "cell_type": "code",
   "execution_count": null,
   "id": "2cce1952",
   "metadata": {},
   "outputs": [],
   "source": []
  },
  {
   "cell_type": "code",
   "execution_count": null,
   "id": "5ac37104",
   "metadata": {},
   "outputs": [],
   "source": []
  }
 ],
 "metadata": {
  "kernelspec": {
   "display_name": "Python 3 (ipykernel)",
   "language": "python",
   "name": "python3"
  },
  "language_info": {
   "codemirror_mode": {
    "name": "ipython",
    "version": 3
   },
   "file_extension": ".py",
   "mimetype": "text/x-python",
   "name": "python",
   "nbconvert_exporter": "python",
   "pygments_lexer": "ipython3",
   "version": "3.9.12"
  }
 },
 "nbformat": 4,
 "nbformat_minor": 5
}
