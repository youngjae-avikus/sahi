{
 "cells": [
  {
   "cell_type": "markdown",
   "id": "30316dc4",
   "metadata": {},
   "source": [
    "## 모델 선정"
   ]
  },
  {
   "cell_type": "code",
   "execution_count": null,
   "id": "5f3a25a0",
   "metadata": {},
   "outputs": [],
   "source": [
    "# 재시작하고 해야만 경로가 맞음"
   ]
  },
  {
   "cell_type": "code",
   "execution_count": 1,
   "id": "445b75b0",
   "metadata": {},
   "outputs": [
    {
     "name": "stdout",
     "output_type": "stream",
     "text": [
      "Mon Oct 24 22:04:12 2022       \r\n",
      "+-----------------------------------------------------------------------------+\r\n",
      "| NVIDIA-SMI 470.82.01    Driver Version: 470.82.01    CUDA Version: 11.4     |\r\n",
      "|-------------------------------+----------------------+----------------------+\r\n",
      "| GPU  Name        Persistence-M| Bus-Id        Disp.A | Volatile Uncorr. ECC |\r\n",
      "| Fan  Temp  Perf  Pwr:Usage/Cap|         Memory-Usage | GPU-Util  Compute M. |\r\n",
      "|                               |                      |               MIG M. |\r\n",
      "|===============================+======================+======================|\r\n",
      "|   0  NVIDIA Graphics...  Off  | 00000000:01:00.0 Off |                  N/A |\r\n",
      "| N/A   46C    P3     5W /  N/A |    874MiB /  3913MiB |      4%      Default |\r\n",
      "|                               |                      |                  N/A |\r\n",
      "+-------------------------------+----------------------+----------------------+\r\n",
      "                                                                               \r\n",
      "+-----------------------------------------------------------------------------+\r\n",
      "| Processes:                                                                  |\r\n",
      "|  GPU   GI   CI        PID   Type   Process name                  GPU Memory |\r\n",
      "|        ID   ID                                                   Usage      |\r\n",
      "|=============================================================================|\r\n",
      "|    0   N/A  N/A      1080      G   /usr/lib/xorg/Xorg                 44MiB |\r\n",
      "|    0   N/A  N/A      1399      G   /usr/bin/gnome-shell                5MiB |\r\n",
      "|    0   N/A  N/A      1864      G   /usr/lib/xorg/Xorg                306MiB |\r\n",
      "|    0   N/A  N/A      2039      G   /usr/bin/gnome-shell              293MiB |\r\n",
      "|    0   N/A  N/A      3950      G   ...467812432895858237,131072      222MiB |\r\n",
      "+-----------------------------------------------------------------------------+\r\n"
     ]
    }
   ],
   "source": [
    "!nvidia-smi"
   ]
  },
  {
   "cell_type": "code",
   "execution_count": 2,
   "id": "dc5e6edc",
   "metadata": {},
   "outputs": [
    {
     "name": "stdout",
     "output_type": "stream",
     "text": [
      "/home/yyj/sahi/demo\r\n"
     ]
    }
   ],
   "source": [
    "!pwd"
   ]
  },
  {
   "cell_type": "code",
   "execution_count": 3,
   "id": "71f97af6",
   "metadata": {},
   "outputs": [
    {
     "name": "stdout",
     "output_type": "stream",
     "text": [
      "best.pt\r\n"
     ]
    }
   ],
   "source": [
    "!ls ../resources/models/221024_960"
   ]
  },
  {
   "cell_type": "code",
   "execution_count": 4,
   "id": "81de1a13",
   "metadata": {},
   "outputs": [
    {
     "name": "stdout",
     "output_type": "stream",
     "text": [
      "../resources/models/221024_960/best.pt\r\n"
     ]
    }
   ],
   "source": [
    "!ls ../resources/models/221024_960/best.pt"
   ]
  },
  {
   "cell_type": "markdown",
   "id": "5d7c81ef",
   "metadata": {},
   "source": [
    "## CREATE WTS"
   ]
  },
  {
   "cell_type": "code",
   "execution_count": 6,
   "id": "1c7c26b7",
   "metadata": {},
   "outputs": [
    {
     "name": "stdout",
     "output_type": "stream",
     "text": [
      "/home/yyj/sahi/demo\r\n"
     ]
    }
   ],
   "source": [
    "!pwd"
   ]
  },
  {
   "cell_type": "code",
   "execution_count": 7,
   "id": "7071b6d0",
   "metadata": {},
   "outputs": [
    {
     "name": "stdout",
     "output_type": "stream",
     "text": [
      "benchmarks.py  data\t  gen_wts_yoloV5.py  __init__.py  segment   val.py\r\n",
      "classify       detect.py  helpers.py\t     models\t  train.py  yolov5s.pt\r\n",
      "cli.py\t       export.py  hubconf.py\t     runs\t  utils\r\n"
     ]
    }
   ],
   "source": [
    "!ls ../yolov5/yolov5/"
   ]
  },
  {
   "cell_type": "code",
   "execution_count": 8,
   "id": "d23ceca9",
   "metadata": {},
   "outputs": [
    {
     "name": "stdout",
     "output_type": "stream",
     "text": [
      "/home/yyj/sahi/yolov5/yolov5\n"
     ]
    }
   ],
   "source": [
    "%cd ../yolov5/yolov5/"
   ]
  },
  {
   "cell_type": "code",
   "execution_count": 9,
   "id": "83905201",
   "metadata": {},
   "outputs": [
    {
     "name": "stdout",
     "output_type": "stream",
     "text": [
      "usage: gen_wts_yoloV5.py [-h] -w WEIGHTS [-s SIZE [SIZE ...]]\r\n",
      "\r\n",
      "PyTorch YOLOv5 conversion\r\n",
      "\r\n",
      "optional arguments:\r\n",
      "  -h, --help            show this help message and exit\r\n",
      "  -w WEIGHTS, --weights WEIGHTS\r\n",
      "                        Input weights (.pt) file path (required)\r\n",
      "  -s SIZE [SIZE ...], --size SIZE [SIZE ...]\r\n",
      "                        Inference size [H,W] (default [640])\r\n"
     ]
    }
   ],
   "source": [
    "!python gen_wts_yoloV5.py --help"
   ]
  },
  {
   "cell_type": "code",
   "execution_count": 10,
   "id": "c98f410a",
   "metadata": {},
   "outputs": [
    {
     "name": "stdout",
     "output_type": "stream",
     "text": [
      "YOLOv5 🚀 2022-10-15 Python-3.8.13 torch-1.8.2+cu111 CPU\r\n",
      "\r\n"
     ]
    }
   ],
   "source": [
    "!python gen_wts_yoloV5.py --weights ../../resources/models/221024_960/best.pt -s 544 960"
   ]
  },
  {
   "cell_type": "code",
   "execution_count": 11,
   "id": "2dac31ab",
   "metadata": {},
   "outputs": [
    {
     "name": "stdout",
     "output_type": "stream",
     "text": [
      "total 147936\r\n",
      "drwxrwxrwx 8 yyj yyj      4096 10월 24 22:04 .\r\n",
      "-rw-rw-r-- 1 yyj yyj 136468289 10월 24 22:04 yolov5_best.wts\r\n",
      "-rw-rw-r-- 1 yyj yyj      8205 10월 24 22:04 yolov5_best.cfg\r\n",
      "-rw------- 1 yyj yyj  14808437 10월 18 05:03 yolov5s.pt\r\n",
      "drwxrwxrwx 9 yyj yyj      4096 10월 18 05:03 ..\r\n",
      "drwxrwxr-x 3 yyj yyj      4096 10월 18 05:03 runs\r\n",
      "drwxrwxrwx 4 yyj yyj      4096 10월 13 13:29 models\r\n",
      "drwxrwxrwx 5 yyj yyj      4096 10월 13 13:27 utils\r\n",
      "-rwxrwxrwx 1 yyj yyj      8239  9월 28 00:51 benchmarks.py\r\n",
      "drwxrwxrwx 2 yyj yyj      4096  9월 28 00:51 classify\r\n",
      "-rwxrwxrwx 1 yyj yyj       988  9월 28 00:51 cli.py\r\n",
      "drwxrwxrwx 5 yyj yyj      4096  9월 28 00:51 data\r\n",
      "-rwxrwxrwx 1 yyj yyj     14022  9월 28 00:51 detect.py\r\n",
      "-rwxrwxrwx 1 yyj yyj     29586  9월 28 00:51 export.py\r\n",
      "-rwxrwxrwx 1 yyj yyj      3012  9월 28 00:51 helpers.py\r\n",
      "-rwxrwxrwx 1 yyj yyj      7364  9월 28 00:51 hubconf.py\r\n",
      "-rwxrwxrwx 1 yyj yyj       103  9월 28 00:51 __init__.py\r\n",
      "drwxrwxrwx 2 yyj yyj      4096  9월 28 00:51 segment\r\n",
      "-rwxrwxrwx 1 yyj yyj     39426  9월 28 00:51 train.py\r\n",
      "-rwxrwxrwx 1 yyj yyj     21474  9월 28 00:51 val.py\r\n",
      "-rwxrwxrwx 1 yyj yyj     10374  8월  1 11:36 gen_wts_yoloV5.py\r\n"
     ]
    }
   ],
   "source": [
    "!ls -lat"
   ]
  },
  {
   "cell_type": "markdown",
   "id": "0f4ae88e",
   "metadata": {},
   "source": [
    "## MOVE TO DSL_DATA_FOLDER"
   ]
  },
  {
   "cell_type": "code",
   "execution_count": 12,
   "id": "554b60ca",
   "metadata": {},
   "outputs": [],
   "source": [
    "!mkdir -p  ~/AiBoat/aiboat/APP/NAS/nas_data/FLL_221024"
   ]
  },
  {
   "cell_type": "code",
   "execution_count": 13,
   "id": "286401ac",
   "metadata": {},
   "outputs": [],
   "source": [
    "!mv yolov5_best.cfg yolov5_best.wts ~/AiBoat/aiboat/APP/NAS/nas_data/FLL_221024"
   ]
  },
  {
   "cell_type": "code",
   "execution_count": null,
   "id": "b8d8c70c",
   "metadata": {},
   "outputs": [],
   "source": []
  }
 ],
 "metadata": {
  "kernelspec": {
   "display_name": "Python 3 (ipykernel)",
   "language": "python",
   "name": "python3"
  },
  "language_info": {
   "codemirror_mode": {
    "name": "ipython",
    "version": 3
   },
   "file_extension": ".py",
   "mimetype": "text/x-python",
   "name": "python",
   "nbconvert_exporter": "python",
   "pygments_lexer": "ipython3",
   "version": "3.8.13"
  }
 },
 "nbformat": 4,
 "nbformat_minor": 5
}
