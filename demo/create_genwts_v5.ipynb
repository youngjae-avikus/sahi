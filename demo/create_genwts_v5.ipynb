{
 "cells": [
  {
   "cell_type": "markdown",
   "id": "30316dc4",
   "metadata": {},
   "source": [
    "## 모델 선정"
   ]
  },
  {
   "cell_type": "code",
   "execution_count": null,
   "id": "5f3a25a0",
   "metadata": {},
   "outputs": [],
   "source": [
    "# 재시작하고 해야만 경로가 맞음"
   ]
  },
  {
   "cell_type": "code",
   "execution_count": 1,
   "id": "dc5e6edc",
   "metadata": {},
   "outputs": [
    {
     "name": "stdout",
     "output_type": "stream",
     "text": [
      "/home/yyj-avikus/sahi/demo\r\n"
     ]
    }
   ],
   "source": [
    "!pwd"
   ]
  },
  {
   "cell_type": "code",
   "execution_count": 2,
   "id": "81de1a13",
   "metadata": {},
   "outputs": [
    {
     "name": "stdout",
     "output_type": "stream",
     "text": [
      "ls: cannot access '../../resources/models/221014/best.pt': No such file or directory\r\n"
     ]
    }
   ],
   "source": [
    "!ls ../../resources/models/221014/best.pt"
   ]
  },
  {
   "cell_type": "markdown",
   "id": "5d7c81ef",
   "metadata": {},
   "source": [
    "## CREATE WTS"
   ]
  },
  {
   "cell_type": "code",
   "execution_count": 4,
   "id": "1c7c26b7",
   "metadata": {},
   "outputs": [
    {
     "name": "stdout",
     "output_type": "stream",
     "text": [
      "/home/yyj-avikus/sahi/demo\r\n"
     ]
    }
   ],
   "source": [
    "!pwd"
   ]
  },
  {
   "cell_type": "code",
   "execution_count": 5,
   "id": "7071b6d0",
   "metadata": {},
   "outputs": [
    {
     "name": "stdout",
     "output_type": "stream",
     "text": [
      "benchmarks.py  data\t  gen_wts_yoloV5.py  __init__.py  train.py\r\n",
      "classify       detect.py  helpers.py\t     models\t  utils\r\n",
      "cli.py\t       export.py  hubconf.py\t     segment\t  val.py\r\n"
     ]
    }
   ],
   "source": [
    "!ls ../yolov5/yolov5/"
   ]
  },
  {
   "cell_type": "code",
   "execution_count": 6,
   "id": "d23ceca9",
   "metadata": {},
   "outputs": [
    {
     "name": "stdout",
     "output_type": "stream",
     "text": [
      "/home/yyj-avikus/sahi/yolov5/yolov5\n"
     ]
    }
   ],
   "source": [
    "%cd ../yolov5/yolov5/"
   ]
  },
  {
   "cell_type": "code",
   "execution_count": 7,
   "id": "c98f410a",
   "metadata": {},
   "outputs": [
    {
     "name": "stdout",
     "output_type": "stream",
     "text": [
      "YOLOv5 🚀 2022-10-12 Python-3.8.13 torch-1.8.2 CPU\r\n",
      "\r\n"
     ]
    }
   ],
   "source": [
    "!python gen_wts_yoloV5.py --weights ../../resources/models/221014/best.pt"
   ]
  },
  {
   "cell_type": "code",
   "execution_count": 8,
   "id": "2dac31ab",
   "metadata": {},
   "outputs": [
    {
     "name": "stdout",
     "output_type": "stream",
     "text": [
      "benchmarks.py  detect.py\t  hubconf.py   train.py\t\tyolov5_best.wts\r\n",
      "classify       export.py\t  __init__.py  utils\r\n",
      "cli.py\t       gen_wts_yoloV5.py  models       val.py\r\n",
      "data\t       helpers.py\t  segment      yolov5_best.cfg\r\n"
     ]
    }
   ],
   "source": [
    "!ls"
   ]
  },
  {
   "cell_type": "markdown",
   "id": "0f4ae88e",
   "metadata": {},
   "source": [
    "## MOVE TO DSL_DATA_FOLDER"
   ]
  },
  {
   "cell_type": "code",
   "execution_count": 9,
   "id": "554b60ca",
   "metadata": {},
   "outputs": [],
   "source": [
    "!mkdir -p  ~/aiboat/aiboat/APP/NAS/datas/FLL_221014"
   ]
  },
  {
   "cell_type": "code",
   "execution_count": 10,
   "id": "286401ac",
   "metadata": {},
   "outputs": [],
   "source": [
    "!mv yolov5_best.cfg yolov5_best.wts ~/aiboat/aiboat/APP/NAS/datas/FLL_221014"
   ]
  },
  {
   "cell_type": "code",
   "execution_count": null,
   "id": "b8d8c70c",
   "metadata": {},
   "outputs": [],
   "source": []
  }
 ],
 "metadata": {
  "kernelspec": {
   "display_name": "Python 3 (ipykernel)",
   "language": "python",
   "name": "python3"
  },
  "language_info": {
   "codemirror_mode": {
    "name": "ipython",
    "version": 3
   },
   "file_extension": ".py",
   "mimetype": "text/x-python",
   "name": "python",
   "nbconvert_exporter": "python",
   "pygments_lexer": "ipython3",
   "version": "3.8.13"
  }
 },
 "nbformat": 4,
 "nbformat_minor": 5
}
