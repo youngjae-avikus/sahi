{
 "cells": [
  {
   "cell_type": "markdown",
   "id": "30316dc4",
   "metadata": {},
   "source": [
    "## 1 .GPU 환경 확인"
   ]
  },
  {
   "cell_type": "code",
   "execution_count": null,
   "id": "445b75b0",
   "metadata": {},
   "outputs": [],
   "source": [
    "!nvidia-smi"
   ]
  },
  {
   "cell_type": "code",
   "execution_count": null,
   "id": "dc5e6edc",
   "metadata": {},
   "outputs": [],
   "source": [
    "!pwd"
   ]
  },
  {
   "cell_type": "markdown",
   "id": "619ad64f",
   "metadata": {},
   "source": [
    "## 2. 모델 Path 설정"
   ]
  },
  {
   "cell_type": "code",
   "execution_count": null,
   "id": "71f97af6",
   "metadata": {},
   "outputs": [],
   "source": [
    "!ls ../resources/models/221024_960"
   ]
  },
  {
   "cell_type": "code",
   "execution_count": null,
   "id": "81de1a13",
   "metadata": {},
   "outputs": [],
   "source": [
    "!ls ../resources/models/221024_960/best.pt"
   ]
  },
  {
   "cell_type": "markdown",
   "id": "5d7c81ef",
   "metadata": {},
   "source": [
    "## 3. Create .wts file"
   ]
  },
  {
   "cell_type": "code",
   "execution_count": null,
   "id": "1c7c26b7",
   "metadata": {},
   "outputs": [],
   "source": [
    "!pwd"
   ]
  },
  {
   "cell_type": "code",
   "execution_count": null,
   "id": "7071b6d0",
   "metadata": {},
   "outputs": [],
   "source": [
    "!ls ../yolov5/yolov5/"
   ]
  },
  {
   "cell_type": "code",
   "execution_count": null,
   "id": "d23ceca9",
   "metadata": {},
   "outputs": [],
   "source": [
    "%cd ../yolov5/yolov5/"
   ]
  },
  {
   "cell_type": "code",
   "execution_count": null,
   "id": "83905201",
   "metadata": {
    "scrolled": true
   },
   "outputs": [],
   "source": [
    "!python gen_wts_yoloV5.py --help"
   ]
  },
  {
   "cell_type": "code",
   "execution_count": null,
   "id": "c98f410a",
   "metadata": {},
   "outputs": [],
   "source": [
    "!python gen_wts_yoloV5.py --weights ../../resources/models/221024_960/best.pt -s 544 960"
   ]
  },
  {
   "cell_type": "code",
   "execution_count": null,
   "id": "2dac31ab",
   "metadata": {},
   "outputs": [],
   "source": [
    "!ls -lat"
   ]
  },
  {
   "cell_type": "markdown",
   "id": "0f4ae88e",
   "metadata": {},
   "source": [
    "## 4. Move to dsl data folder"
   ]
  },
  {
   "cell_type": "code",
   "execution_count": null,
   "id": "554b60ca",
   "metadata": {},
   "outputs": [],
   "source": [
    "!mkdir -p  "
   ]
  },
  {
   "cell_type": "code",
   "execution_count": null,
   "id": "286401ac",
   "metadata": {},
   "outputs": [],
   "source": [
    "!mv yolov5_best.cfg yolov5_best.wts "
   ]
  },
  {
   "cell_type": "code",
   "execution_count": null,
   "id": "b8d8c70c",
   "metadata": {},
   "outputs": [],
   "source": []
  }
 ],
 "metadata": {
  "kernelspec": {
   "display_name": "Python 3 (ipykernel)",
   "language": "python",
   "name": "python3"
  },
  "language_info": {
   "codemirror_mode": {
    "name": "ipython",
    "version": 3
   },
   "file_extension": ".py",
   "mimetype": "text/x-python",
   "name": "python",
   "nbconvert_exporter": "python",
   "pygments_lexer": "ipython3",
   "version": "3.8.13"
  }
 },
 "nbformat": 4,
 "nbformat_minor": 5
}
