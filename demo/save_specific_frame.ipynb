{
 "cells": [
  {
   "cell_type": "markdown",
   "id": "820c747c",
   "metadata": {},
   "source": [
    "## 1. Show Samples "
   ]
  },
  {
   "cell_type": "code",
   "execution_count": 28,
   "id": "3782621a",
   "metadata": {},
   "outputs": [],
   "source": [
    "import os\n",
    "import cv2\n",
    "from ipywidgets import interact\n",
    "import matplotlib.pyplot as plt\n",
    "%matplotlib inline"
   ]
  },
  {
   "cell_type": "code",
   "execution_count": 29,
   "id": "949fcd73",
   "metadata": {},
   "outputs": [],
   "source": [
    "source_image_dir = \"../resources/export_frame/lidar01/\"\n",
    "image_files = sorted([fn for fn in os.listdir(source_image_dir) if fn.endswith(\"jpg\")])"
   ]
  },
  {
   "cell_type": "code",
   "execution_count": 31,
   "id": "ee78b517",
   "metadata": {},
   "outputs": [
    {
     "data": {
      "application/vnd.jupyter.widget-view+json": {
       "model_id": "6fe0bc8bfac144d38bff345d70f2cab2",
       "version_major": 2,
       "version_minor": 0
      },
      "text/plain": [
       "interactive(children=(IntSlider(value=0, description='index', max=654), Output()), _dom_classes=('widget-inter…"
      ]
     },
     "metadata": {},
     "output_type": "display_data"
    }
   ],
   "source": [
    "@interact(index=(0, len(image_files)-1))\n",
    "def show_sample(index=0):\n",
    "    image_file = image_files[index]\n",
    "    image_path = os.path.join(source_image_dir, image_file)\n",
    "    image = cv2.imread(image_path)\n",
    "    image = cv2.cvtColor(image, cv2.COLOR_BGR2RGB)\n",
    "    \n",
    "    plt.figure(figsize=(16,16))\n",
    "    plt.imshow(image)\n",
    "    plt.axis('off')\n",
    "    plt.show()"
   ]
  },
  {
   "cell_type": "markdown",
   "id": "e67017d2",
   "metadata": {},
   "source": [
    "## 2. Save Specific frame"
   ]
  },
  {
   "cell_type": "code",
   "execution_count": 42,
   "id": "ef0fb26c",
   "metadata": {},
   "outputs": [],
   "source": [
    "save_image_dir = \"../resources/save_test/lidar01/\"\n",
    "\n",
    "if not os.path.exists(save_image_dir):\n",
    "    os.makedirs(save_image_dir)"
   ]
  },
  {
   "cell_type": "code",
   "execution_count": 41,
   "id": "0b377b6b",
   "metadata": {},
   "outputs": [
    {
     "data": {
      "application/vnd.jupyter.widget-view+json": {
       "model_id": "82c7779509894336a5ecdd4bd7f33016",
       "version_major": 2,
       "version_minor": 0
      },
      "text/plain": [
       "interactive(children=(IntSlider(value=0, description='index', max=654), Output()), _dom_classes=('widget-inter…"
      ]
     },
     "metadata": {},
     "output_type": "display_data"
    },
    {
     "data": {
      "application/vnd.jupyter.widget-view+json": {
       "model_id": "8e156b96655f4f788ba51dd06a244a02",
       "version_major": 2,
       "version_minor": 0
      },
      "text/plain": [
       "VBox(children=(Button(description='My Button', style=ButtonStyle()), Output()))"
      ]
     },
     "execution_count": 41,
     "metadata": {},
     "output_type": "execute_result"
    }
   ],
   "source": [
    "# some handy functions to use along widgets\n",
    "from IPython.display import display, Markdown, clear_output\n",
    "# widget packages\n",
    "import ipywidgets as widgets\n",
    "    \n",
    "button = widgets.Button(description='My Button')\n",
    "out = widgets.Output()\n",
    "\n",
    "@interact(index=(0, len(image_files)-1))\n",
    "def show_sample(index=0):\n",
    "    image_file = image_files[index]\n",
    "    image_path = os.path.join(source_image_dir, image_file)\n",
    "    image = cv2.imread(image_path)\n",
    "    image = cv2.cvtColor(image, cv2.COLOR_BGR2RGB)\n",
    "\n",
    "    def on_button_clicked(_):\n",
    "        # \"linking function with output\"\n",
    "        with out:\n",
    "            # what happens when we press the button\n",
    "            clear_output()\n",
    "            \n",
    "    # linking button and function together using a button's method\n",
    "    button.on_click(on_button_clicked)\n",
    "    # displaying button and its output together\n",
    "   \n",
    "    \n",
    "    plt.figure(figsize=(16,16))\n",
    "    plt.imshow(image)\n",
    "    plt.axis('off')\n",
    "    plt.show()\n",
    "\n",
    "widgets.VBox([button,out])"
   ]
  },
  {
   "cell_type": "markdown",
   "id": "961272ef",
   "metadata": {},
   "source": [
    "## 3. Save FP/FN Images"
   ]
  },
  {
   "cell_type": "code",
   "execution_count": null,
   "id": "c90dc978",
   "metadata": {},
   "outputs": [],
   "source": [
    "def process_one_image(preds: torch.Tensor, targets: torch.Tensor, match_metric):\n",
    "    tp_boxes = None\n",
    "    fp_boxes = None\n",
    "    fn_boxes = None\n",
    "    iou = box_iou(targets[:, 1:], preds[:, :4])\n",
    "    correct_class = targets[:, 0:1] == preds[:, 5]\n",
    "    x = torch.where((iou >= match_metric) & (correct_class))\n",
    "    if x[0].numel():\n",
    "        matches = torch.cat((torch.stack(x, 1), iou[x[0], x[1]][:, None]), 1).cpu().numpy()\n",
    "        if x[0].shape[0] > 1:\n",
    "            matches = matches[matches[:, 2].argsort()[::-1]]\n",
    "            matches = matches[np.unique(matches[:, 1], return_index=True)[1]]\n",
    "            matches = matches[matches[:, 2].argsort()[::-1]]\n",
    "            matches = matches[np.unique(matches[:, 0], return_index=True)[1]]\n",
    "        tp_boxes = preds[matches[:, 1]]\n",
    "        fp_idxs = [idx for idx in range(preds.shape[0]) if idx not in matches[:, 1]]\n",
    "        fp_boxes = preds[fp_idxs]\n",
    "        fn_idxs = [idx for idx in range(targets.shape[0]) if idx not in matches[:, 0]]\n",
    "        fn_boxes = targets[fn_idxs]\n",
    "    else:\n",
    "        fn_boxes = targets\n",
    "    return tp_boxes if tp_boxes is not None else torch.tensor([]), fp_boxes if fp_boxes is not None else torch.tensor([]),\\\n",
    "        fn_boxes if fn_boxes is not None else torch.tensor([])\n",
    "\n",
    "# eval_one_image(im[si], pred, ((labels[:, 0:1], xywh2xyxy(labels[:, 1:5]))), path, names, save_dir)\n",
    "\n",
    "def eval_one_image(img, preds, targets, path, names, save_dir, conf_metric=0.3, match_metrics=0.5):\n",
    "    \"\"\"\n",
    "    img: torch.Tensor\n",
    "    preds: torch.Tensor[x1, y1, x2, y2, conf, class_id]\n",
    "    targets: torch.Tensor[class_id, x1, y1, x2, y2]\n",
    "    \"\"\"\n",
    "    (save_dir / 'tps').mkdir(parents=True, exist_ok=True)\n",
    "    (save_dir / 'fps').mkdir(parents=True, exist_ok=True)\n",
    "    (save_dir / 'fns').mkdir(parents=True, exist_ok=True)\n",
    "    (save_dir / 'combined').mkdir(parents=True, exist_ok=True)\n",
    "    preds = preds[preds[:, 4] > conf_metric]\n",
    "    tps, fps, fns = process_one_image(preds, targets, match_metrics)\n",
    "    pil_img = to_pil_image(img)\n",
    "    pil_tp_img = to_pil_image(img)\n",
    "    pil_fp_img = to_pil_image(img)\n",
    "    pil_fn_img = to_pil_image(img)\n",
    "    pil_draw = ImageDraw.Draw(pil_img)\n",
    "    pil_tp_draw = ImageDraw.Draw(pil_tp_img)\n",
    "    pil_fp_draw = ImageDraw.Draw(pil_fp_img)\n",
    "    pil_fn_draw = ImageDraw.Draw(pil_fn_img)\n",
    "    if tps.numel():\n",
    "        for tp in tps:\n",
    "            x1, y1, x2, y2, conf, class_id = tp\n",
    "            pil_tp_draw.rectangle((x1, y1, x2, y2), outline='red', width=3)\n",
    "            pil_tp_draw.text((x1, y1 - 22), f'{names[int(class_id)]} {conf:.2f}', fill='red', font=ImageFont.truetype('arial.ttf', size=20))\n",
    "            pil_draw.rectangle((x1, y1, x2, y2), outline='blue', width=2)\n",
    "            pil_draw.text((x1, y1 - 22), f'{names[int(class_id)]} {conf:.2f}', fill='blue', font=ImageFont.truetype('arial.ttf', size=13))\n",
    "    if fps.numel():\n",
    "        for fp in fps:\n",
    "            x1, y1, x2, y2, conf, class_id = fp\n",
    "            pil_fp_draw.rectangle((x1, y1, x2, y2), outline='red', width=3)\n",
    "            pil_fp_draw.text((x1, y1 - 22), f'{names[int(class_id)]} {conf:.2f}', fill='red', font=ImageFont.truetype('arial.ttf', size=20))\n",
    "            pil_draw.rectangle((x1, y1, x2, y2), outline='yellow', width=2)\n",
    "            pil_draw.text((x1, y1 - 22), f'{names[int(class_id)]} {conf:.2f}', fill='yellow', font=ImageFont.truetype('arial.ttf', size=13))\n",
    "    if fns.numel():\n",
    "        for fn in fns:\n",
    "            class_id, x1, y1, x2, y2 = fn\n",
    "            pil_fn_draw.rectangle((x1, y1, x2, y2), outline='red', width=3)\n",
    "            pil_fn_draw.text((x1, y1 - 22), f'{names[int(class_id)]}', fill='red', font=ImageFont.truetype('arial.ttf', size=20))\n",
    "            pil_draw.rectangle((x1, y1, x2, y2), outline='red', width=2)\n",
    "            pil_draw.text((x1, y1 - 22), f'{names[int(class_id)]}', fill='red', font=ImageFont.truetype('arial.ttf', size=13))\n",
    "    pil_tp_img.save(save_dir / 'tps' / f'{path.stem}.jpg')\n",
    "    pil_fp_img.save(save_dir / 'fps' / f'{path.stem}.jpg')\n",
    "    pil_fn_img.save(save_dir / 'fns' / f'{path.stem}.jpg')\n",
    "    pil_img.save(save_dir / 'combined' / f'{path.stem}.jpg')"
   ]
  },
  {
   "cell_type": "markdown",
   "id": "1d6d2055",
   "metadata": {},
   "source": [
    "## 3. Reference"
   ]
  },
  {
   "cell_type": "code",
   "execution_count": 15,
   "id": "1e7c4e38",
   "metadata": {},
   "outputs": [],
   "source": [
    "# https://medium.com/@technologger/how-to-interact-with-jupyter-33a98686f24e"
   ]
  },
  {
   "cell_type": "code",
   "execution_count": 9,
   "id": "dcf835b1",
   "metadata": {},
   "outputs": [],
   "source": [
    "# some handy functions to use along widgets\n",
    "from IPython.display import display, Markdown, clear_output\n",
    "# widget packages\n",
    "import ipywidgets as widgets\n",
    "# defining some widgets\n",
    "text = widgets.Text(\n",
    "       value='My Text',\n",
    "       description='Title', )\n",
    "calendar = widgets.DatePicker(\n",
    "           description='Select Date')\n",
    "slider = widgets.FloatSlider(\n",
    "         value=1,\n",
    "         min=0,\n",
    "         max=10.0,\n",
    "         step=0.1,)\n",
    "menu = widgets.Dropdown(\n",
    "       options=['red', 'blue', 'green'],\n",
    "       value='red',\n",
    "       description='Color:')\n",
    "checkbox = widgets.Checkbox(\n",
    "           description='Check to invert',)"
   ]
  },
  {
   "cell_type": "code",
   "execution_count": 11,
   "id": "ccdbfe24",
   "metadata": {},
   "outputs": [
    {
     "data": {
      "application/vnd.jupyter.widget-view+json": {
       "model_id": "a8cd33828ce448e0b1577680f0466b5a",
       "version_major": 2,
       "version_minor": 0
      },
      "text/plain": [
       "Dropdown(description='Color:', options=('red', 'blue', 'green'), value='red')"
      ]
     },
     "execution_count": 11,
     "metadata": {},
     "output_type": "execute_result"
    }
   ],
   "source": [
    "menu"
   ]
  },
  {
   "cell_type": "code",
   "execution_count": 13,
   "id": "ffca2b57",
   "metadata": {},
   "outputs": [
    {
     "data": {
      "application/vnd.jupyter.widget-view+json": {
       "model_id": "fcdec496bc7242509eb103123b59f89e",
       "version_major": 2,
       "version_minor": 0
      },
      "text/plain": [
       "VBox(children=(Text(value='My Text', description='Title'), FloatSlider(value=1.0, max=10.0), Dropdown(descript…"
      ]
     },
     "execution_count": 13,
     "metadata": {},
     "output_type": "execute_result"
    }
   ],
   "source": [
    "box = widgets.VBox([text, slider, menu, calendar, checkbox ])\n",
    "box"
   ]
  },
  {
   "cell_type": "code",
   "execution_count": 14,
   "id": "8cd53bf7",
   "metadata": {},
   "outputs": [
    {
     "data": {
      "application/vnd.jupyter.widget-view+json": {
       "model_id": "7d85913513f84e918117086e9abd6f5d",
       "version_major": 2,
       "version_minor": 0
      },
      "text/plain": [
       "HBox(children=(VBox(children=(Text(value='My Text', description='Title'), FloatSlider(value=1.0, max=10.0), Dr…"
      ]
     },
     "execution_count": 14,
     "metadata": {},
     "output_type": "execute_result"
    }
   ],
   "source": [
    "widgets.HBox([box, box])"
   ]
  },
  {
   "cell_type": "code",
   "execution_count": 16,
   "id": "1c4f76ee",
   "metadata": {},
   "outputs": [
    {
     "data": {
      "application/vnd.jupyter.widget-view+json": {
       "model_id": "5e30268890de47ca916b386815c45c19",
       "version_major": 2,
       "version_minor": 0
      },
      "text/plain": [
       "Tab(children=(VBox(children=(Text(value='My Text', description='Title'), FloatSlider(value=1.0, max=10.0), Dro…"
      ]
     },
     "execution_count": 16,
     "metadata": {},
     "output_type": "execute_result"
    }
   ],
   "source": [
    "# defining a list with the contents of our windows\n",
    "children = [box, box]\n",
    "# initializing a tab\n",
    "tab = widgets.Tab()\n",
    "# setting the tab windows \n",
    "tab.children = children\n",
    "# changing the title of the first and second window\n",
    "tab.set_title(0, 'box')\n",
    "tab.set_title(1, 'copy of box')\n",
    "tab"
   ]
  },
  {
   "cell_type": "code",
   "execution_count": 17,
   "id": "6aeb0fbc",
   "metadata": {},
   "outputs": [
    {
     "data": {
      "application/vnd.jupyter.widget-view+json": {
       "model_id": "a8cd33828ce448e0b1577680f0466b5a",
       "version_major": 2,
       "version_minor": 0
      },
      "text/plain": [
       "Dropdown(description='Color:', options=('red', 'blue', 'green', 'black'), value='red')"
      ]
     },
     "execution_count": 17,
     "metadata": {},
     "output_type": "execute_result"
    }
   ],
   "source": [
    "menu.options=('red', 'blue', 'green', 'black')\n",
    "menu"
   ]
  },
  {
   "cell_type": "code",
   "execution_count": 19,
   "id": "3faa1dc4",
   "metadata": {},
   "outputs": [
    {
     "name": "stdout",
     "output_type": "stream",
     "text": [
      "Widget text has value My Text ㅁㄴㅇㅁㄴㅇ, of <class 'str'>\n",
      "Widget checkbox has value False, of <class 'bool'>\n",
      "Widget calendar has value None, of <class 'NoneType'>\n"
     ]
    }
   ],
   "source": [
    "# current value of text, checkbox and calendar \n",
    "print('Widget text has value {}, of {}'.format(text.value, type(text.value)))\n",
    "print('Widget checkbox has value {}, of {}'.format(checkbox.value, type(checkbox.value)))\n",
    "print('Widget calendar has value {}, of {}'.format(calendar.value, type(calendar.value)))"
   ]
  },
  {
   "cell_type": "code",
   "execution_count": 20,
   "id": "ea8b8c0f",
   "metadata": {},
   "outputs": [],
   "source": [
    "button = widgets.Button(description='My Button')"
   ]
  },
  {
   "cell_type": "code",
   "execution_count": 22,
   "id": "e7dff713",
   "metadata": {},
   "outputs": [
    {
     "data": {
      "application/vnd.jupyter.widget-view+json": {
       "model_id": "2d9d0c5295124f0798d76904d2afbae9",
       "version_major": 2,
       "version_minor": 0
      },
      "text/plain": [
       "VBox(children=(Button(description='My Button', style=ButtonStyle()), Output()))"
      ]
     },
     "execution_count": 22,
     "metadata": {},
     "output_type": "execute_result"
    }
   ],
   "source": [
    "button = widgets.Button(description='My Button')\n",
    "out = widgets.Output()\n",
    "def on_button_clicked(_):\n",
    "    # \"linking function with output\"\n",
    "    with out:\n",
    "        # what happens when we press the button\n",
    "        clear_output()\n",
    "        print('Something happens!')\n",
    "# linking button and function together using a button's method\n",
    "button.on_click(on_button_clicked)\n",
    "# displaying button and its output together\n",
    "widgets.VBox([button,out])\n"
   ]
  },
  {
   "cell_type": "code",
   "execution_count": 23,
   "id": "bb370a4b",
   "metadata": {},
   "outputs": [
    {
     "data": {
      "application/vnd.jupyter.widget-view+json": {
       "model_id": "3215b017d735494bbf4fddd3aef3ff8b",
       "version_major": 2,
       "version_minor": 0
      },
      "text/plain": [
       "VBox(children=(Dropdown(options=('In', 'Out', 'exit', 'quit', 'keyboard', 'run', 'widgets', 'display', 'tagInp…"
      ]
     },
     "execution_count": 23,
     "metadata": {},
     "output_type": "execute_result"
    }
   ],
   "source": [
    "# some options\n",
    "a, b = 1, 5\n",
    "# selecting global variables without underscores\n",
    "global_variables = list(globals().keys())\n",
    "funcs = []\n",
    "for i in global_variables:\n",
    "    if '_' not in i:\n",
    "        funcs.append(i)\n",
    " \n",
    "# creating menu with them\n",
    "global_vars = widgets.Dropdown(\n",
    "    options=funcs)\n",
    "# button, output, function and linkage\n",
    "butt = widgets.Button(description='Print Variable')\n",
    "outt = widgets.Output()\n",
    "def on_butt_clicked(b):\n",
    "    with outt:\n",
    "        clear_output()\n",
    "        print(type(globals()[global_vars.value]))\n",
    "        print(globals()[global_vars.value])\n",
    "        \n",
    "butt.on_click(on_butt_clicked)\n",
    "# display\n",
    "widgets.VBox([global_vars,butt,outt])"
   ]
  },
  {
   "cell_type": "code",
   "execution_count": null,
   "id": "9e34be61",
   "metadata": {},
   "outputs": [],
   "source": []
  },
  {
   "cell_type": "code",
   "execution_count": null,
   "id": "e4a04b24",
   "metadata": {},
   "outputs": [],
   "source": []
  },
  {
   "cell_type": "code",
   "execution_count": null,
   "id": "aa1a5fc4",
   "metadata": {},
   "outputs": [],
   "source": []
  }
 ],
 "metadata": {
  "kernelspec": {
   "display_name": "Python 3 (ipykernel)",
   "language": "python",
   "name": "python3"
  },
  "language_info": {
   "codemirror_mode": {
    "name": "ipython",
    "version": 3
   },
   "file_extension": ".py",
   "mimetype": "text/x-python",
   "name": "python",
   "nbconvert_exporter": "python",
   "pygments_lexer": "ipython3",
   "version": "3.8.13"
  }
 },
 "nbformat": 4,
 "nbformat_minor": 5
}
