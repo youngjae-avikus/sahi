{
 "cells": [
  {
   "cell_type": "code",
   "execution_count": 1,
   "id": "7bc551a5",
   "metadata": {},
   "outputs": [],
   "source": [
    "from ipywidgets import Label, HTML, HBox, Image, VBox, Box, HBox\n",
    "from ipyevents import Event \n",
    "from IPython.display import display"
   ]
  },
  {
   "cell_type": "code",
   "execution_count": 10,
   "id": "798cef5e",
   "metadata": {},
   "outputs": [
    {
     "data": {
      "application/vnd.jupyter.widget-view+json": {
       "model_id": "fa979ce03bda4478bfa84b5a3621103d",
       "version_major": 2,
       "version_minor": 0
      },
      "text/plain": [
       "Label(value='Click or type on me!', layout=Layout(border_bottom='2px solid red', border_left='2px solid red', …"
      ]
     },
     "metadata": {},
     "output_type": "display_data"
    }
   ],
   "source": [
    "l = Label('Click or type on me!')\n",
    "l.layout.border = '2px solid red'\n",
    "\n",
    "h = HTML('Event info')\n",
    "d = Event(source=l, watched_events=['click', 'keydown', 'mouseenter', 'touchmove'])\n",
    "\n",
    "def handle_event(event):\n",
    "    lines = ['{}: {}'.format(k, v) for k, v in event.items()]\n",
    "    content = '<br>'.join(lines)\n",
    "    h.value = content\n",
    "    print(event)\n",
    "\n",
    "d.on_dom_event(handle_event)\n",
    "                            \n",
    "display(l)"
   ]
  },
  {
   "cell_type": "code",
   "execution_count": 18,
   "id": "8f3dd82f",
   "metadata": {},
   "outputs": [
    {
     "data": {
      "application/vnd.jupyter.widget-view+json": {
       "model_id": "fcfa9cb85ffc4d4b867ff04a5d8930d6",
       "version_major": 2,
       "version_minor": 0
      },
      "text/plain": [
       "VBox(children=(FloatSlider(value=0.0, description='Starts at', max=2.827433388230814, step=0.3141592653589793)…"
      ]
     },
     "metadata": {},
     "output_type": "display_data"
    },
    {
     "data": {
      "application/vnd.jupyter.widget-view+json": {
       "model_id": "119ebcfe9afb48f1a4e921ecbeb4c49c",
       "version_major": 2,
       "version_minor": 0
      },
      "text/plain": [
       "Output()"
      ]
     },
     "execution_count": 18,
     "metadata": {},
     "output_type": "execute_result"
    }
   ],
   "source": [
    "import ipywidgets as widgets\n",
    "import numpy as np\n",
    "import matplotlib.pyplot as plt\n",
    "\n",
    "start_slider = widgets.FloatSlider(\n",
    "   val = 0,\n",
    "   min = 0,\n",
    "   max = np.pi * 0.9,\n",
    "   step = np.pi * 0.1,\n",
    "   description = 'Starts at'\n",
    ")\n",
    "\n",
    "end_slider = widgets.FloatSlider(\n",
    "   val = np.pi,\n",
    "   min = np.pi,\n",
    "   max = 2 * np.pi,\n",
    "   step = np.pi * 0.1,\n",
    "   description = 'Ends at'\n",
    ")\n",
    "\n",
    "def on_button_clicked(_):\n",
    "    start_slider.value = 0\n",
    "    end_slider.value = 2 * np.pi\n",
    "\n",
    "button = widgets.Button(description = \"Reset\")\n",
    "button.on_click(on_button_clicked)\n",
    "\n",
    "def plot_graph(starts_at = 0, ends_at = 2 * np.pi):\n",
    "    f = lambda x: sum(1 / a * np.sin(a * x + np.pi / a) for a in range(1, 6))\n",
    "    x = np.linspace(0, 2 * np.pi, 1000)\n",
    "    plt.plot(x, f(x))\n",
    "    plt.xlim([starts_at, ends_at])\n",
    "\n",
    "display(widgets.VBox([start_slider, end_slider, button]))\n",
    "widgets.interactive_output(plot_graph, {\n",
    "   'starts_at': start_slider,\n",
    "   'ends_at': end_slider\n",
    "})"
   ]
  },
  {
   "cell_type": "code",
   "execution_count": null,
   "id": "da7babe5",
   "metadata": {},
   "outputs": [],
   "source": []
  }
 ],
 "metadata": {
  "kernelspec": {
   "display_name": "Python 3 (ipykernel)",
   "language": "python",
   "name": "python3"
  },
  "language_info": {
   "codemirror_mode": {
    "name": "ipython",
    "version": 3
   },
   "file_extension": ".py",
   "mimetype": "text/x-python",
   "name": "python",
   "nbconvert_exporter": "python",
   "pygments_lexer": "ipython3",
   "version": "3.8.13"
  }
 },
 "nbformat": 4,
 "nbformat_minor": 5
}
