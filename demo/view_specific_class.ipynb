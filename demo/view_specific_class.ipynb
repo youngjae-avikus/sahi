{
 "cells": [
  {
   "cell_type": "code",
   "execution_count": null,
   "id": "2c52e7e7",
   "metadata": {},
   "outputs": [],
   "source": []
  },
  {
   "cell_type": "code",
   "execution_count": 52,
   "id": "9000f587",
   "metadata": {},
   "outputs": [
    {
     "data": {
      "text/plain": [
       "'/home/yyj/sahi/demo'"
      ]
     },
     "execution_count": 52,
     "metadata": {},
     "output_type": "execute_result"
    }
   ],
   "source": [
    "import os\n",
    "import cv2\n",
    "from glob import glob\n",
    "from ipywidgets import interact\n",
    "import copy\n",
    "from sahi.utils.cv import Colors\n",
    "import matplotlib.pyplot as plt\n",
    "os.getcwd()"
   ]
  },
  {
   "cell_type": "markdown",
   "id": "5dfeef91",
   "metadata": {},
   "source": [
    "## YOLO Label 기반"
   ]
  },
  {
   "cell_type": "code",
   "execution_count": 53,
   "id": "8b1c4641",
   "metadata": {},
   "outputs": [],
   "source": [
    "VIEW_CLASS_ID = [2]\n",
    "LABEL_DIR = \"../resources/log/labels/\"\n",
    "IMAGE_DIR = \"../resources/log/images/\""
   ]
  },
  {
   "cell_type": "code",
   "execution_count": 54,
   "id": "6cea8ff2",
   "metadata": {},
   "outputs": [
    {
     "data": {
      "text/plain": [
       "1533"
      ]
     },
     "execution_count": 54,
     "metadata": {},
     "output_type": "execute_result"
    }
   ],
   "source": [
    "label_files = sorted(glob(LABEL_DIR+\"*.txt\"))\n",
    "len(label_files)"
   ]
  },
  {
   "cell_type": "code",
   "execution_count": 55,
   "id": "ed014821",
   "metadata": {},
   "outputs": [],
   "source": [
    "choose_labels = []"
   ]
  },
  {
   "cell_type": "code",
   "execution_count": 56,
   "id": "92c68ffd",
   "metadata": {},
   "outputs": [],
   "source": [
    "for label_file in label_files:\n",
    "    with open(label_file, 'r') as f:\n",
    "        line = f.readline().strip()\n",
    "        while line:\n",
    "            id, cx, cy, w, h = list(map(float, line.split()))\n",
    "            if id in VIEW_CLASS_ID:\n",
    "                choose_labels.append(label_file)\n",
    "                break\n",
    "            line = f.readline().strip()"
   ]
  },
  {
   "cell_type": "code",
   "execution_count": 57,
   "id": "cbeb7cc3",
   "metadata": {},
   "outputs": [],
   "source": [
    "CLASS_NAME_TO_ID = {'Buoy': 0, 'Boat': 1, 'Channel Marker': 2, 'Speed Warning Sign': 3}\n",
    "CLASS_ID_TO_NAME = {0: 'Buoy', 1: 'Boat', 2: 'Channel Marker', 3: 'Speed Warning Sign'}\n",
    "SIZE=(1920,1080)\n",
    "\n",
    "def visualize_yolo(image, bboxes, category_ids, color=None):\n",
    "    image = copy.deepcopy(image)\n",
    "    \n",
    "    if color is None:\n",
    "        colors = Colors()\n",
    "    else:\n",
    "        colors = None\n",
    "        \n",
    "    for bbox, category_id in zip(bboxes, category_ids):\n",
    "        class_name = CLASS_ID_TO_NAME[category_id[0]]\n",
    "        \n",
    "        x_center, y_center, w, h = bbox\n",
    "        x_min = int((x_center - w/2) * SIZE[0])\n",
    "        y_min = int((y_center - h/2) * SIZE[1])\n",
    "        x_max = int((x_center + w/2) * SIZE[0])\n",
    "        y_max = int((y_center + h/2) * SIZE[1])\n",
    "\n",
    "        if colors is not None:\n",
    "            color = colors(category_id[0])\n",
    "        \n",
    "        # set rect_th for boxes\n",
    "        rect_th = max(round(sum(image.shape) / 2 * 0.001), 1)\n",
    "        # set text_th for category names\n",
    "        text_th = max(rect_th - 1, 1)\n",
    "        # set text_size for category names\n",
    "        text_size = rect_th / 3\n",
    "\n",
    "        cv2.rectangle(image, \n",
    "                      (x_min, y_min),\n",
    "                      (x_max, y_max), \n",
    "                      color=color,\n",
    "                      thickness=rect_th)\n",
    "        \n",
    "        p1, p2 = (int(x_min), int(y_min)), (int(x_max), int(y_max))\n",
    "        label = f\"{class_name}\"\n",
    "        w, h = cv2.getTextSize(label, 0, fontScale=text_size, thickness=text_th)[0]  # label width, height\n",
    "        outside = p1[1] - h - 3 >= 0  # label fits outside box\n",
    "        p2 = p1[0] + w, p1[1] - h - 3 if outside else p1[1] + h + 3\n",
    "        \n",
    "        cv2.rectangle(image, p1, p2, color, -1, cv2.LINE_AA)  # filled\n",
    "        cv2.putText(\n",
    "            image,\n",
    "            label,\n",
    "            (p1[0], p1[1] - 2 if outside else p1[1] + h + 2),\n",
    "            0,\n",
    "            text_size,\n",
    "            (255, 255, 255),\n",
    "            thickness=text_th,\n",
    "        )\n",
    "        \n",
    "    return image"
   ]
  },
  {
   "cell_type": "code",
   "execution_count": 58,
   "id": "0482a6bc",
   "metadata": {},
   "outputs": [
    {
     "data": {
      "application/vnd.jupyter.widget-view+json": {
       "model_id": "bdb1a889639741e18baffba5fcbd38d8",
       "version_major": 2,
       "version_minor": 0
      },
      "text/plain": [
       "interactive(children=(IntSlider(value=0, description='index', max=506), Output()), _dom_classes=('widget-inter…"
      ]
     },
     "metadata": {},
     "output_type": "display_data"
    }
   ],
   "source": [
    "@interact(index=(0,len(choose_labels)))\n",
    "def verify_gt(index=0):\n",
    "    label = choose_labels[index]\n",
    "    image_name = os.path.join(IMAGE_DIR, os.path.splitext(os.path.basename(label))[0]+\".jpg\")\n",
    "    image = cv2.imread(image_name)\n",
    "    image = cv2.cvtColor(image, cv2.COLOR_BGR2RGB)\n",
    "    \n",
    "    bboxes = []\n",
    "    category_ids = []\n",
    "    \n",
    "    with open(label, 'r') as f:\n",
    "        line = f.readline().strip()\n",
    "        while line:\n",
    "            id, cx, cy, w, h = list(map(float, line.split()))\n",
    "            bboxes.append([cx, cy, w, h])\n",
    "            category_ids.append([int(id)])\n",
    "            line = f.readline().strip()\n",
    "\n",
    "    if len(bboxes) > 0:    \n",
    "        canvas = visualize_yolo(image, bboxes, category_ids)\n",
    "        plt.figure(figsize=(16,16))\n",
    "        plt.imshow(canvas)\n",
    "        plt.axis('off')\n",
    "        plt.show()"
   ]
  },
  {
   "cell_type": "markdown",
   "id": "c712e8b6",
   "metadata": {},
   "source": [
    "## Save specific frame with button"
   ]
  },
  {
   "cell_type": "code",
   "execution_count": 59,
   "id": "34b74d1f",
   "metadata": {},
   "outputs": [
    {
     "ename": "NameError",
     "evalue": "name 'image_files' is not defined",
     "output_type": "error",
     "traceback": [
      "\u001b[0;31m---------------------------------------------------------------------------\u001b[0m",
      "\u001b[0;31mNameError\u001b[0m                                 Traceback (most recent call last)",
      "Cell \u001b[0;32mIn [59], line 9\u001b[0m\n\u001b[1;32m      6\u001b[0m button \u001b[38;5;241m=\u001b[39m widgets\u001b[38;5;241m.\u001b[39mButton(description\u001b[38;5;241m=\u001b[39m\u001b[38;5;124m'\u001b[39m\u001b[38;5;124mMy Button\u001b[39m\u001b[38;5;124m'\u001b[39m)\n\u001b[1;32m      7\u001b[0m out \u001b[38;5;241m=\u001b[39m widgets\u001b[38;5;241m.\u001b[39mOutput()\n\u001b[0;32m----> 9\u001b[0m \u001b[38;5;129m@interact\u001b[39m(index\u001b[38;5;241m=\u001b[39m(\u001b[38;5;241m0\u001b[39m, \u001b[38;5;28mlen\u001b[39m(\u001b[43mimage_files\u001b[49m)\u001b[38;5;241m-\u001b[39m\u001b[38;5;241m1\u001b[39m))\n\u001b[1;32m     10\u001b[0m \u001b[38;5;28;01mdef\u001b[39;00m \u001b[38;5;21mshow_sample\u001b[39m(index\u001b[38;5;241m=\u001b[39m\u001b[38;5;241m0\u001b[39m):\n\u001b[1;32m     11\u001b[0m     image_file \u001b[38;5;241m=\u001b[39m image_files[index]\n\u001b[1;32m     12\u001b[0m     image_path \u001b[38;5;241m=\u001b[39m os\u001b[38;5;241m.\u001b[39mpath\u001b[38;5;241m.\u001b[39mjoin(source_image_dir, image_file)\n",
      "\u001b[0;31mNameError\u001b[0m: name 'image_files' is not defined"
     ]
    }
   ],
   "source": [
    "# some handy functions to use along widgets\n",
    "from IPython.display import display, Markdown, clear_output\n",
    "# widget packages\n",
    "import ipywidgets as widgets\n",
    "    \n",
    "button = widgets.Button(description='My Button')\n",
    "out = widgets.Output()\n",
    "\n",
    "@interact(index=(0, len(image_files)-1))\n",
    "def show_sample(index=0):\n",
    "    image_file = image_files[index]\n",
    "    image_path = os.path.join(source_image_dir, image_file)\n",
    "    image = cv2.imread(image_path)\n",
    "    image = cv2.cvtColor(image, cv2.COLOR_BGR2RGB)\n",
    "\n",
    "    def on_button_clicked(_):\n",
    "        # \"linking function with output\"\n",
    "        with out:\n",
    "            # what happens when we press the button\n",
    "            clear_output()\n",
    "            \n",
    "    # linking button and function together using a button's method\n",
    "    button.on_click(on_button_clicked)\n",
    "    # displaying button and its output together\n",
    "   \n",
    "    \n",
    "    plt.figure(figsize=(16,16))\n",
    "    plt.imshow(image)\n",
    "    plt.axis('off')\n",
    "    plt.show()\n",
    "\n",
    "widgets.VBox([button,out])"
   ]
  },
  {
   "cell_type": "code",
   "execution_count": null,
   "id": "c86a3d80",
   "metadata": {},
   "outputs": [],
   "source": []
  },
  {
   "cell_type": "code",
   "execution_count": null,
   "id": "aedd4f1b",
   "metadata": {},
   "outputs": [],
   "source": [
    "@interact(index=(0,len(choose_labels)))\n",
    "def verify_gt(index=0):\n",
    "    label = choose_labels[index]\n",
    "    image_name = os.path.join(IMAGE_DIR, os.path.splitext(os.path.basename(label))[0]+\".jpg\")\n",
    "    image = cv2.imread(image_name)\n",
    "    image = cv2.cvtColor(image, cv2.COLOR_BGR2RGB)\n",
    "    \n",
    "    bboxes = []\n",
    "    category_ids = []\n",
    "    \n",
    "    with open(label, 'r') as f:\n",
    "        line = f.readline().strip()\n",
    "        while line:\n",
    "            id, cx, cy, w, h = list(map(float, line.split()))\n",
    "            bboxes.append([cx, cy, w, h])\n",
    "            category_ids.append([int(id)])\n",
    "            line = f.readline().strip()\n",
    "\n",
    "    if len(bboxes) > 0:    \n",
    "        canvas = visualize_yolo(image, bboxes, category_ids)\n",
    "        plt.figure(figsize=(16,16))\n",
    "        plt.imshow(canvas)\n",
    "        plt.axis('off')\n",
    "        plt.show()"
   ]
  },
  {
   "cell_type": "code",
   "execution_count": null,
   "id": "20d435c7",
   "metadata": {},
   "outputs": [],
   "source": []
  },
  {
   "cell_type": "code",
   "execution_count": null,
   "id": "5e816bf5",
   "metadata": {},
   "outputs": [],
   "source": []
  },
  {
   "cell_type": "markdown",
   "id": "64e91e78",
   "metadata": {},
   "source": [
    "## JSON 기반"
   ]
  },
  {
   "cell_type": "code",
   "execution_count": null,
   "id": "cd4a405f",
   "metadata": {},
   "outputs": [],
   "source": []
  }
 ],
 "metadata": {
  "kernelspec": {
   "display_name": "Python 3 (ipykernel)",
   "language": "python",
   "name": "python3"
  },
  "language_info": {
   "codemirror_mode": {
    "name": "ipython",
    "version": 3
   },
   "file_extension": ".py",
   "mimetype": "text/x-python",
   "name": "python",
   "nbconvert_exporter": "python",
   "pygments_lexer": "ipython3",
   "version": "3.8.13"
  }
 },
 "nbformat": 4,
 "nbformat_minor": 5
}
