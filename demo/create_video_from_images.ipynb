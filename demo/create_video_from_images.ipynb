{
 "cells": [
  {
   "cell_type": "markdown",
   "id": "1b340f26",
   "metadata": {},
   "source": [
    "## 이미지 디렉토리들을 묶어서, 비디오 만들기"
   ]
  },
  {
   "cell_type": "markdown",
   "id": "f55c071c",
   "metadata": {},
   "source": [
    "- remove_nolabel_images_and_rename_frames.ipynb을 통해 기존의 이미지 순서대로 rename\n",
    "- DSL에서 멀티 이미지 스트림 인퍼런스 하는 부분이 문제가 있어서, https://github.com/prominenceai/deepstream-services-library/issues/860 비디오로 만들어서 인퍼런스 할 계획"
   ]
  },
  {
   "cell_type": "code",
   "execution_count": 1,
   "id": "06ff41b8",
   "metadata": {},
   "outputs": [],
   "source": [
    "import cv2\n",
    "import numpy as np\n",
    "import glob\n",
    "from tqdm import tqdm"
   ]
  },
  {
   "cell_type": "code",
   "execution_count": 2,
   "id": "c2d51857",
   "metadata": {},
   "outputs": [],
   "source": [
    "source_image_dir = \"../resources/FLL_VAL/images/\"\n",
    "fps=30"
   ]
  },
  {
   "cell_type": "code",
   "execution_count": 3,
   "id": "f1cafe71",
   "metadata": {},
   "outputs": [
    {
     "name": "stderr",
     "output_type": "stream",
     "text": [
      "100%|██████████████████████████████████████████████████████████████████████████████████████████████████████████████████████████████████████████████████| 4897/4897 [02:15<00:00, 36.11it/s]\n"
     ]
    }
   ],
   "source": [
    "out = cv2.VideoWriter('new_fll_val.mp4',cv2.VideoWriter_fourcc(*'mp4v'), fps, (1920,1080))\n",
    "\n",
    "for filename in tqdm(sorted(glob.glob(source_image_dir+\"*.jpg\"))):\n",
    "    img = cv2.imread(filename)    \n",
    "    out.write(img)\n",
    "\n",
    "out.release()"
   ]
  },
  {
   "cell_type": "markdown",
   "id": "db9bd18d",
   "metadata": {},
   "source": [
    "## DSL Data 폴더로 옮기기"
   ]
  },
  {
   "cell_type": "code",
   "execution_count": 6,
   "id": "ade6a984",
   "metadata": {},
   "outputs": [],
   "source": [
    "!mkdir -p  ~/AiBoat/aiboat/APP/NAS/nas_data/sample_video"
   ]
  },
  {
   "cell_type": "code",
   "execution_count": 8,
   "id": "5c7a2662",
   "metadata": {},
   "outputs": [],
   "source": [
    "!mv new_fll_val.mp4 ~/AiBoat/aiboat/APP/NAS/datas/sample_video"
   ]
  },
  {
   "cell_type": "code",
   "execution_count": null,
   "id": "b91fdda8",
   "metadata": {},
   "outputs": [],
   "source": []
  }
 ],
 "metadata": {
  "kernelspec": {
   "display_name": "Python 3 (ipykernel)",
   "language": "python",
   "name": "python3"
  },
  "language_info": {
   "codemirror_mode": {
    "name": "ipython",
    "version": 3
   },
   "file_extension": ".py",
   "mimetype": "text/x-python",
   "name": "python",
   "nbconvert_exporter": "python",
   "pygments_lexer": "ipython3",
   "version": "3.8.13"
  }
 },
 "nbformat": 4,
 "nbformat_minor": 5
}
