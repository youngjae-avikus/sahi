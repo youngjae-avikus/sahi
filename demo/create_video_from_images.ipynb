{
 "cells": [
  {
   "cell_type": "markdown",
   "id": "83b1adbd",
   "metadata": {},
   "source": [
    "## 이미지 디렉토리들을 묶어서, 비디오 만들기"
   ]
  },
  {
   "cell_type": "markdown",
   "id": "245f52cf",
   "metadata": {},
   "source": [
    "- remove_nolabel_images_and_rename_frames.ipynb을 통해 기존의 이미지 순서대로 rename\n",
    "- DSL에서 멀티 이미지 스트림 인퍼런스 하는 부분이 문제가 있어서, https://github.com/prominenceai/deepstream-services-library/issues/860 비디오로 만들어서 인퍼런스 할 계획"
   ]
  },
  {
   "cell_type": "code",
   "execution_count": 2,
   "id": "b7663d9b",
   "metadata": {},
   "outputs": [],
   "source": [
    "import cv2\n",
    "import numpy as np\n",
    "import glob\n",
    "from tqdm import tqdm"
   ]
  },
  {
   "cell_type": "code",
   "execution_count": 3,
   "id": "55053eed",
   "metadata": {},
   "outputs": [],
   "source": [
    "source_image_dir = \"../resources/FLL_VAL/images/\"\n",
    "fps=30"
   ]
  },
  {
   "cell_type": "code",
   "execution_count": 8,
   "id": "1bd036a4",
   "metadata": {},
   "outputs": [
    {
     "name": "stderr",
     "output_type": "stream",
     "text": [
      "100%|███████████████████████████████████████████████████████████████| 5906/5906 [02:45<00:00, 35.74it/s]\n"
     ]
    }
   ],
   "source": [
    "out = cv2.VideoWriter('fll.mp4',cv2.VideoWriter_fourcc(*'mp4v'), fps, (1920,1080))\n",
    "\n",
    "for filename in tqdm(sorted(glob.glob(source_image_dir+\"*.jpg\"))):\n",
    "    img = cv2.imread(filename)    \n",
    "    out.write(img)\n",
    "\n",
    "out.release()"
   ]
  },
  {
   "cell_type": "code",
   "execution_count": null,
   "id": "dbcb99ce",
   "metadata": {},
   "outputs": [],
   "source": []
  },
  {
   "cell_type": "code",
   "execution_count": null,
   "id": "c1cf7d8c",
   "metadata": {},
   "outputs": [],
   "source": []
  },
  {
   "cell_type": "code",
   "execution_count": null,
   "id": "347fe292",
   "metadata": {},
   "outputs": [],
   "source": []
  },
  {
   "cell_type": "code",
   "execution_count": null,
   "id": "ee26e32b",
   "metadata": {},
   "outputs": [],
   "source": []
  }
 ],
 "metadata": {
  "kernelspec": {
   "display_name": "Python 3 (ipykernel)",
   "language": "python",
   "name": "python3"
  },
  "language_info": {
   "codemirror_mode": {
    "name": "ipython",
    "version": 3
   },
   "file_extension": ".py",
   "mimetype": "text/x-python",
   "name": "python",
   "nbconvert_exporter": "python",
   "pygments_lexer": "ipython3",
   "version": "3.8.13"
  }
 },
 "nbformat": 4,
 "nbformat_minor": 5
}
